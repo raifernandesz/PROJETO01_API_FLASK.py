{
  "nbformat": 4,
  "nbformat_minor": 0,
  "metadata": {
    "colab": {
      "provenance": [],
      "authorship_tag": "ABX9TyP/0pyx1JTrMdZFy70LGkBD",
      "include_colab_link": true
    },
    "kernelspec": {
      "name": "python3",
      "display_name": "Python 3"
    },
    "language_info": {
      "name": "python"
    }
  },
  "cells": [
    {
      "cell_type": "markdown",
      "metadata": {
        "id": "view-in-github",
        "colab_type": "text"
      },
      "source": [
        "<a href=\"https://colab.research.google.com/github/raifernandesz/PROJETO01_API_FLASK.py/blob/main/projeto09.ipynb\" target=\"_parent\"><img src=\"https://colab.research.google.com/assets/colab-badge.svg\" alt=\"Open In Colab\"/></a>"
      ]
    },
    {
      "cell_type": "code",
      "execution_count": 11,
      "metadata": {
        "id": "13jc_H2lUUee",
        "colab": {
          "base_uri": "https://localhost:8080/"
        },
        "outputId": "720ed495-4586-4574-e7b7-8b38d03b7ef7"
      },
      "outputs": [
        {
          "output_type": "stream",
          "name": "stdout",
          "text": [
            "                Aluno  Matemática  Português  Ciências     Média\n",
            "0           Ana Souza          10          1         6  5.666667\n",
            "1          Bruno Lima           8          4         0  4.000000\n",
            "2      Carla Ferreira           4          7         0  3.666667\n",
            "3        Diego Santos           3          6         9  6.000000\n",
            "4  Eduarda Nascimento           2          1         1  1.333333\n",
            "5      Felipe Almeida           5          6         2  4.333333\n",
            "6       Giovana Ramos          10          3         6  6.333333\n",
            "7      Henrique Costa           7          1         8  5.333333\n",
            "8      Isabela Araujo           8          5         6  6.333333\n",
            "9        João Pereira           1          6         5  4.000000\n",
            "\n",
            "Aluno com a maior média:\n",
            "Aluno         Giovana Ramos\n",
            "Matemática               10\n",
            "Português                 3\n",
            "Ciências                  6\n",
            "Média              6.333333\n",
            "Name: 6, dtype: object\n"
          ]
        }
      ],
      "source": [
        "import pandas as pd\n",
        "import random\n",
        "\n",
        "dados = {\n",
        "    \"Aluno\": [\n",
        "        \"Ana Souza\", \"Bruno Lima\", \"Carla Ferreira\", \"Diego Santos\", \"Eduarda Nascimento\",\n",
        "        \"Felipe Almeida\", \"Giovana Ramos\", \"Henrique Costa\", \"Isabela Araujo\", \"João Pereira\"\n",
        "    ],\n",
        "    \"Matemática\": random.choices(range(11), k=10),\n",
        "    \"Português\":  random.choices(range(11), k=10),\n",
        "    \"Ciências\":   random.choices(range(11), k=10)\n",
        "}\n",
        "\n",
        "# Criação do DataFrame\n",
        "df = pd.DataFrame(dados)\n",
        "df\n",
        "\n",
        "# # Calcula a média de cada aluno\n",
        "df[\"Média\"] = df[[\"Matemática\", \"Português\", \"Ciências\"]].mean(axis=1)\n",
        "\n",
        "# # Exibe o DataFrame\n",
        "print(df)\n",
        "\n",
        "\n",
        "melhor_aluno = df.loc[df[\"Média\"].idxmax()]\n",
        "\n",
        "\n",
        "\n",
        "\n",
        "# # Aluno com maior média\n",
        "print(\"\\nAluno com a maior média:\")\n",
        "print(melhor_aluno)\n"
      ]
    }
  ]
}